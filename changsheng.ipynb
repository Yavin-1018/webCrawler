{
 "cells": [
  {
   "cell_type": "code",
   "execution_count": 1,
   "metadata": {},
   "outputs": [],
   "source": [
    "import requests\n",
    "from bs4 import BeautifulSoup\n",
    "from tqdm import tqdm#进度条工具\n",
    "\n",
    "import warnings\n",
    "warnings.filterwarnings(\"ignore\")\n",
    "\n",
    "import re"
   ]
  },
  {
   "cell_type": "code",
   "execution_count": 27,
   "metadata": {},
   "outputs": [],
   "source": [
    "import matplotlib.pyplot as plt\n",
    "\n",
    "%matplotlib inline"
   ]
  },
  {
   "cell_type": "code",
   "execution_count": 2,
   "metadata": {},
   "outputs": [],
   "source": [
    "def check_link(url):  \n",
    "    try:            \n",
    "        r = requests.get(url)  \n",
    "        r.raise_for_status()  #抛出异常\n",
    "        r.encoding = r.apparent_encoding  #解决编码问题\n",
    "        return r.text  #读取文本多有r.text 读取图片多用r.content二进制\n",
    "    except:  \n",
    "        print('无法链接服务器！！！')  "
   ]
  },
  {
   "cell_type": "code",
   "execution_count": 3,
   "metadata": {},
   "outputs": [],
   "source": [
    "def get_index(demo_df,name):\n",
    "    return [ (indexs,i)  for indexs in demo_df.index for  i in range(len(demo_df.loc[indexs].values)) if(demo_df.loc[indexs].values[i] ==name)]  "
   ]
  },
  {
   "cell_type": "code",
   "execution_count": 4,
   "metadata": {},
   "outputs": [],
   "source": [
    "def get_urls_from_pageURL(pageURL):\n",
    "    rs = check_link(pageURL)\n",
    "    soup = BeautifulSoup(rs,'html.parser')\n",
    "    table = soup.find(id='table5')\n",
    "    urls = {re.search(r'\\d.*日',i.contents[0].contents[0]).group(): pageURL+i.attrs['href'] for i in table.find_all('a')}\n",
    "    #词典名为链接文本中的日期'\\d.*日'匹配数字为开头以日为结束的日期如2018年6月1日至2018年6月15日\n",
    "    #标签'a'为html中的链接'href'为链接值\n",
    "    return urls"
   ]
  },
  {
   "cell_type": "code",
   "execution_count": 5,
   "metadata": {},
   "outputs": [],
   "source": [
    "url_2018 = 'http://www.nifdc.org.cn/directory/web/WS02/CL0108/'\n",
    "url_2017 = 'http://www.nifdc.org.cn/directory/web/WS02/CL0873/'\n",
    "url_2016 = 'http://www.nifdc.org.cn/directory/web/WS02/CL0833/'"
   ]
  },
  {
   "cell_type": "code",
   "execution_count": 6,
   "metadata": {},
   "outputs": [],
   "source": [
    "urls = {}\n",
    "for url in [url_2018,url_2017,url_2016]:\n",
    "    urls.update(get_urls_from_pageURL(url))\n",
    "#urls中为2018、2017、2016三年所有的审批链接"
   ]
  },
  {
   "cell_type": "code",
   "execution_count": 7,
   "metadata": {},
   "outputs": [
    {
     "name": "stderr",
     "output_type": "stream",
     "text": [
      "58it [06:44,  6.97s/it]"
     ]
    },
    {
     "name": "stdout",
     "output_type": "stream",
     "text": [
      "2016年9月16日至9月31日 (42, 10) error\n"
     ]
    },
    {
     "name": "stderr",
     "output_type": "stream",
     "text": [
      "\r",
      "59it [06:44,  6.86s/it]"
     ]
    },
    {
     "name": "stdout",
     "output_type": "stream",
     "text": [
      "2016年9月1日至9月15日 (42, 10) error\n"
     ]
    },
    {
     "name": "stderr",
     "output_type": "stream",
     "text": [
      "75it [08:32,  6.84s/it]"
     ]
    },
    {
     "name": "stdout",
     "output_type": "stream",
     "text": [
      "CPU times: user 5min 33s, sys: 1.33 s, total: 5min 35s\n",
      "Wall time: 8min 32s\n"
     ]
    },
    {
     "name": "stderr",
     "output_type": "stream",
     "text": [
      "\n"
     ]
    }
   ],
   "source": [
    "%%time\n",
    "df = pd.DataFrame()\n",
    "for i,u in tqdm(enumerate(urls.keys())):\n",
    "    \n",
    "    d = pd.read_html(urls[u],header=0)[16]#经测试，网页中表格在第16个位置\n",
    "    d.rename(columns={'制品名称':'产品名称','序 号':'序号','批签发证号':'证书编号','批量/进口量':'签发量','报告书编号':'报告编号'},inplace=True)\n",
    "    #第一遍爬取后发现表格中的列名存在异名，在此替换成同名\n",
    "    if i > 0 :\n",
    "        #为了判断本次读取到的表格的列名是否是上次多数相同，不同年份的表格列数不同，故测试选择了大小为5\n",
    "        x = set(d.columns.values)\n",
    "        y = set(df.columns.values)\n",
    "        if len(x.intersection(y)) < 5:\n",
    "            #列名不匹配有两种情况\n",
    "            location = get_index(d,'制品名称')\n",
    "            if location:\n",
    "                #html表格元素有问题，列名不在第一行，在后面的某行\n",
    "                d = d.iloc[location[0][0]:,location[0][1]:].reset_index(drop=True).T.set_index(0).T.reset_index(drop=True)\n",
    "                d.rename(columns={'制品名称':'产品名称','序 号':'序号','批签发证号':'证书编号','批量/进口量':'签发量','报告书编号':'报告编号'},inplace=True)\n",
    "            else:\n",
    "                #根本不存在该表格\n",
    "                print(u,d.shape,'error')\n",
    "                continue    \n",
    "    df = pd.concat([df,d])            "
   ]
  },
  {
   "cell_type": "code",
   "execution_count": 13,
   "metadata": {},
   "outputs": [],
   "source": [
    "df.dropna(how='all',axis=1,inplace=Tru\n",
    "df.drop(['序号','拒签量'],axis=1,inplace=True)"
   ]
  },
  {
   "cell_type": "code",
   "execution_count": 14,
   "metadata": {},
   "outputs": [
    {
     "data": {
      "text/plain": [
       "产品名称         12320\n",
       "批号           12319\n",
       "批签发机构         2754\n",
       "批量（人份）        2745\n",
       "报告编号          1457\n",
       "收检编号          2754\n",
       "有效期至         12320\n",
       "检品编号          4606\n",
       "生产企业         12320\n",
       "签发日期          9072\n",
       "签发结论         11938\n",
       "签发结论(拟公布)      350\n",
       "签发量          12318\n",
       "规格           12320\n",
       "证书编号          7961\n",
       "dtype: int64"
      ]
     },
     "execution_count": 14,
     "metadata": {},
     "output_type": "execute_result"
    }
   ],
   "source": [
    "df.notnull().sum()"
   ]
  },
  {
   "cell_type": "code",
   "execution_count": 21,
   "metadata": {},
   "outputs": [],
   "source": [
    "df_cs = df.loc[df.生产企业.apply(lambda x:x.find('长生')>=0)]"
   ]
  },
  {
   "cell_type": "code",
   "execution_count": 70,
   "metadata": {},
   "outputs": [],
   "source": [
    "df.to_excel('20160101-20180724检验产品.xlsx',index=False,encoding='gbk')\n",
    "df_cs.to_excel('长春长生公司产品.xlsx',index=False,encoding='gbk')"
   ]
  },
  {
   "cell_type": "code",
   "execution_count": 76,
   "metadata": {},
   "outputs": [
    {
     "data": {
      "text/plain": [
       "冻干人用狂犬病疫苗（Vero细胞）    261\n",
       "水痘减毒活疫苗              166\n",
       "冻干甲型肝炎减毒活疫苗           86\n",
       "吸附无细胞百白破联合疫苗          34\n",
       "冻干水痘减毒活疫苗             30\n",
       "流感病毒裂解疫苗              27\n",
       "ACYW135群脑膜炎球菌多糖疫苗      7\n",
       "Name: 产品名称, dtype: int64"
      ]
     },
     "execution_count": 76,
     "metadata": {},
     "output_type": "execute_result"
    }
   ],
   "source": [
    "vals = df_cs.产品名称.value_counts()\n",
    "vals"
   ]
  },
  {
   "cell_type": "code",
   "execution_count": 37,
   "metadata": {},
   "outputs": [],
   "source": [
    "from pyecharts import Pie"
   ]
  },
  {
   "cell_type": "code",
   "execution_count": 77,
   "metadata": {},
   "outputs": [
    {
     "data": {
      "text/html": [
       "<script>\n",
       "    require.config({\n",
       "        paths: {\n",
       "            'echarts': '/nbextensions/echarts/echarts.min'\n",
       "        }\n",
       "    });\n",
       "</script>\n",
       "    <div id=\"5b24df8d2d82453a9e4f0c18a576e77c\" style=\"width:1000px;height:1000px;\"></div>\n",
       "\n",
       "\n",
       "<script>\n",
       "    require(['echarts'], function(echarts) {\n",
       "        \n",
       "var myChart_5b24df8d2d82453a9e4f0c18a576e77c = echarts.init(document.getElementById('5b24df8d2d82453a9e4f0c18a576e77c'), 'light', {renderer: 'canvas'});\n",
       "\n",
       "var option_5b24df8d2d82453a9e4f0c18a576e77c = {\n",
       "    \"title\": [\n",
       "        {\n",
       "            \"text\": \"\\u957f\\u6625\\u957f\\u751f\\u516c\\u53f8\\u6279\\u51c6\\u4ea7\\u54c1\\u5360\\u6bd4\",\n",
       "            \"left\": \"center\",\n",
       "            \"top\": \"top\",\n",
       "            \"textStyle\": {\n",
       "                \"fontSize\": 18\n",
       "            },\n",
       "            \"subtextStyle\": {\n",
       "                \"fontSize\": 12\n",
       "            }\n",
       "        }\n",
       "    ],\n",
       "    \"toolbox\": {\n",
       "        \"show\": true,\n",
       "        \"orient\": \"vertical\",\n",
       "        \"left\": \"95%\",\n",
       "        \"top\": \"center\",\n",
       "        \"feature\": {\n",
       "            \"saveAsImage\": {\n",
       "                \"show\": true,\n",
       "                \"title\": \"\\u4e0b\\u8f7d\\u56fe\\u7247\"\n",
       "            },\n",
       "            \"restore\": {\n",
       "                \"show\": true\n",
       "            },\n",
       "            \"dataView\": {\n",
       "                \"show\": true\n",
       "            }\n",
       "        }\n",
       "    },\n",
       "    \"series_id\": 8971328,\n",
       "    \"tooltip\": {\n",
       "        \"trigger\": \"item\",\n",
       "        \"triggerOn\": \"mousemove|click\",\n",
       "        \"axisPointer\": {\n",
       "            \"type\": \"line\"\n",
       "        },\n",
       "        \"textStyle\": {\n",
       "            \"fontSize\": 14\n",
       "        },\n",
       "        \"backgroundColor\": \"rgba(50,50,50,0.7)\",\n",
       "        \"borderColor\": \"#333\",\n",
       "        \"borderWidth\": 0\n",
       "    },\n",
       "    \"series\": [\n",
       "        {\n",
       "            \"type\": \"pie\",\n",
       "            \"name\": \"pie\",\n",
       "            \"data\": [\n",
       "                {\n",
       "                    \"name\": \"\\u51bb\\u5e72\\u4eba\\u7528\\u72c2\\u72ac\\u75c5\\u75ab\\u82d7\\uff08Vero\\u7ec6\\u80de\\uff09\",\n",
       "                    \"value\": 261.0\n",
       "                },\n",
       "                {\n",
       "                    \"name\": \"\\u6c34\\u75d8\\u51cf\\u6bd2\\u6d3b\\u75ab\\u82d7\",\n",
       "                    \"value\": 166.0\n",
       "                },\n",
       "                {\n",
       "                    \"name\": \"\\u51bb\\u5e72\\u7532\\u578b\\u809d\\u708e\\u51cf\\u6bd2\\u6d3b\\u75ab\\u82d7\",\n",
       "                    \"value\": 86.0\n",
       "                },\n",
       "                {\n",
       "                    \"name\": \"\\u5438\\u9644\\u65e0\\u7ec6\\u80de\\u767e\\u767d\\u7834\\u8054\\u5408\\u75ab\\u82d7\",\n",
       "                    \"value\": 34.0\n",
       "                },\n",
       "                {\n",
       "                    \"name\": \"\\u51bb\\u5e72\\u6c34\\u75d8\\u51cf\\u6bd2\\u6d3b\\u75ab\\u82d7\",\n",
       "                    \"value\": 30.0\n",
       "                },\n",
       "                {\n",
       "                    \"name\": \"\\u6d41\\u611f\\u75c5\\u6bd2\\u88c2\\u89e3\\u75ab\\u82d7\",\n",
       "                    \"value\": 27.0\n",
       "                },\n",
       "                {\n",
       "                    \"name\": \"ACYW135\\u7fa4\\u8111\\u819c\\u708e\\u7403\\u83cc\\u591a\\u7cd6\\u75ab\\u82d7\",\n",
       "                    \"value\": 7.0\n",
       "                }\n",
       "            ],\n",
       "            \"radius\": [\n",
       "                \"0%\",\n",
       "                \"60%\"\n",
       "            ],\n",
       "            \"center\": [\n",
       "                \"50%\",\n",
       "                \"50%\"\n",
       "            ],\n",
       "            \"label\": {\n",
       "                \"normal\": {\n",
       "                    \"show\": true,\n",
       "                    \"position\": \"outside\",\n",
       "                    \"textStyle\": {\n",
       "                        \"fontSize\": 12\n",
       "                    },\n",
       "                    \"formatter\": \"{b}: {d}%\"\n",
       "                },\n",
       "                \"emphasis\": {\n",
       "                    \"show\": true,\n",
       "                    \"textStyle\": {\n",
       "                        \"fontSize\": 12\n",
       "                    },\n",
       "                    \"formatter\": \"{b}: {d}%\"\n",
       "                }\n",
       "            },\n",
       "            \"seriesId\": 8971328\n",
       "        }\n",
       "    ],\n",
       "    \"legend\": [\n",
       "        {\n",
       "            \"data\": [\n",
       "                \"\\u51bb\\u5e72\\u4eba\\u7528\\u72c2\\u72ac\\u75c5\\u75ab\\u82d7\\uff08Vero\\u7ec6\\u80de\\uff09\",\n",
       "                \"\\u6c34\\u75d8\\u51cf\\u6bd2\\u6d3b\\u75ab\\u82d7\",\n",
       "                \"\\u51bb\\u5e72\\u7532\\u578b\\u809d\\u708e\\u51cf\\u6bd2\\u6d3b\\u75ab\\u82d7\",\n",
       "                \"\\u5438\\u9644\\u65e0\\u7ec6\\u80de\\u767e\\u767d\\u7834\\u8054\\u5408\\u75ab\\u82d7\",\n",
       "                \"\\u51bb\\u5e72\\u6c34\\u75d8\\u51cf\\u6bd2\\u6d3b\\u75ab\\u82d7\",\n",
       "                \"\\u6d41\\u611f\\u75c5\\u6bd2\\u88c2\\u89e3\\u75ab\\u82d7\",\n",
       "                \"ACYW135\\u7fa4\\u8111\\u819c\\u708e\\u7403\\u83cc\\u591a\\u7cd6\\u75ab\\u82d7\"\n",
       "            ],\n",
       "            \"selectedMode\": \"multiple\",\n",
       "            \"show\": true,\n",
       "            \"left\": \"right\",\n",
       "            \"top\": \"bottom\",\n",
       "            \"orient\": \"vertical\",\n",
       "            \"textStyle\": {\n",
       "                \"fontSize\": 12\n",
       "            }\n",
       "        }\n",
       "    ],\n",
       "    \"color\": [\n",
       "        \"#c23531\",\n",
       "        \"#2f4554\",\n",
       "        \"#61a0a8\",\n",
       "        \"#d48265\",\n",
       "        \"#749f83\",\n",
       "        \"#ca8622\",\n",
       "        \"#bda29a\",\n",
       "        \"#6e7074\",\n",
       "        \"#546570\",\n",
       "        \"#c4ccd3\",\n",
       "        \"#f05b72\",\n",
       "        \"#ef5b9c\",\n",
       "        \"#f47920\",\n",
       "        \"#905a3d\",\n",
       "        \"#fab27b\",\n",
       "        \"#2a5caa\",\n",
       "        \"#444693\",\n",
       "        \"#726930\",\n",
       "        \"#b2d235\",\n",
       "        \"#6d8346\",\n",
       "        \"#ac6767\",\n",
       "        \"#1d953f\",\n",
       "        \"#6950a1\",\n",
       "        \"#918597\",\n",
       "        \"#f6f5ec\"\n",
       "    ]\n",
       "};\n",
       "myChart_5b24df8d2d82453a9e4f0c18a576e77c.setOption(option_5b24df8d2d82453a9e4f0c18a576e77c);\n",
       "\n",
       "    });\n",
       "</script>\n"
      ],
      "text/plain": [
       "<pyecharts.charts.pie.Pie at 0x7efee27cc0b8>"
      ]
     },
     "execution_count": 77,
     "metadata": {},
     "output_type": "execute_result"
    }
   ],
   "source": [
    "p = Pie('长春长生公司批准产品占比',width=1000,height=1000,title_pos = 'center',title_top='top')\n",
    "p.add('pie',vals.index,vals.values,radius=[0,60],is_label_show=True,is_legend_show=True,legend_orient = 'vertical',legend_pos='right',legend_top = 'bottom')\n",
    "p"
   ]
  }
 ],
 "metadata": {
  "kernelspec": {
   "display_name": "Python 3",
   "language": "python",
   "name": "python3"
  },
  "language_info": {
   "codemirror_mode": {
    "name": "ipython",
    "version": 3
   },
   "file_extension": ".py",
   "mimetype": "text/x-python",
   "name": "python",
   "nbconvert_exporter": "python",
   "pygments_lexer": "ipython3",
   "version": "3.6.5"
  },
  "toc": {
   "base_numbering": 1,
   "nav_menu": {},
   "number_sections": true,
   "sideBar": true,
   "skip_h1_title": false,
   "title_cell": "Table of Contents",
   "title_sidebar": "Contents",
   "toc_cell": false,
   "toc_position": {},
   "toc_section_display": true,
   "toc_window_display": false
  }
 },
 "nbformat": 4,
 "nbformat_minor": 2
}
